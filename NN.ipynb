{
  "nbformat": 4,
  "nbformat_minor": 0,
  "metadata": {
    "colab": {
      "name": "Copy of VNN.ipynb",
      "provenance": [],
      "collapsed_sections": []
    },
    "kernelspec": {
      "name": "python3",
      "display_name": "Python 3"
    },
    "language_info": {
      "name": "python"
    }
  },
  "cells": [
    {
      "cell_type": "code",
      "source": [
        "#!pip install preprocessing"
      ],
      "metadata": {
        "colab": {
          "base_uri": "https://localhost:8080/"
        },
        "id": "NWuqOkEX5jkD",
        "outputId": "01f1699c-bd2f-42a6-9400-153de64d82c9"
      },
      "execution_count": null,
      "outputs": [
        {
          "output_type": "stream",
          "name": "stdout",
          "text": [
            "Looking in indexes: https://pypi.org/simple, https://us-python.pkg.dev/colab-wheels/public/simple/\n",
            "Requirement already satisfied: preprocessing in /usr/local/lib/python3.7/dist-packages (0.1.13)\n",
            "Requirement already satisfied: nltk==3.2.4 in /usr/local/lib/python3.7/dist-packages (from preprocessing) (3.2.4)\n",
            "Requirement already satisfied: sphinx-rtd-theme==0.2.4 in /usr/local/lib/python3.7/dist-packages (from preprocessing) (0.2.4)\n",
            "Requirement already satisfied: six in /usr/local/lib/python3.7/dist-packages (from nltk==3.2.4->preprocessing) (1.15.0)\n"
          ]
        }
      ]
    },
    {
      "cell_type": "code",
      "execution_count": null,
      "metadata": {
        "colab": {
          "base_uri": "https://localhost:8080/"
        },
        "id": "VcH_1liR48DC",
        "outputId": "3c41a0f6-46bc-42db-a410-7516077294d6"
      },
      "outputs": [
        {
          "output_type": "stream",
          "name": "stdout",
          "text": [
            "fatal: destination path '2ndYearProject-NLP' already exists and is not an empty directory.\n",
            "Looking in indexes: https://pypi.org/simple, https://us-python.pkg.dev/colab-wheels/public/simple/\n",
            "Requirement already satisfied: transformers in /usr/local/lib/python3.7/dist-packages (4.19.2)\n",
            "Requirement already satisfied: regex!=2019.12.17 in /usr/local/lib/python3.7/dist-packages (from transformers) (2019.12.20)\n",
            "Requirement already satisfied: tokenizers!=0.11.3,<0.13,>=0.11.1 in /usr/local/lib/python3.7/dist-packages (from transformers) (0.12.1)\n",
            "Requirement already satisfied: requests in /usr/local/lib/python3.7/dist-packages (from transformers) (2.23.0)\n",
            "Requirement already satisfied: packaging>=20.0 in /usr/local/lib/python3.7/dist-packages (from transformers) (21.3)\n",
            "Requirement already satisfied: numpy>=1.17 in /usr/local/lib/python3.7/dist-packages (from transformers) (1.21.6)\n",
            "Requirement already satisfied: importlib-metadata in /usr/local/lib/python3.7/dist-packages (from transformers) (4.11.3)\n",
            "Requirement already satisfied: pyyaml>=5.1 in /usr/local/lib/python3.7/dist-packages (from transformers) (6.0)\n",
            "Requirement already satisfied: tqdm>=4.27 in /usr/local/lib/python3.7/dist-packages (from transformers) (4.64.0)\n",
            "Requirement already satisfied: huggingface-hub<1.0,>=0.1.0 in /usr/local/lib/python3.7/dist-packages (from transformers) (0.7.0)\n",
            "Requirement already satisfied: filelock in /usr/local/lib/python3.7/dist-packages (from transformers) (3.7.0)\n",
            "Requirement already satisfied: typing-extensions>=3.7.4.3 in /usr/local/lib/python3.7/dist-packages (from huggingface-hub<1.0,>=0.1.0->transformers) (4.2.0)\n",
            "Requirement already satisfied: pyparsing!=3.0.5,>=2.0.2 in /usr/local/lib/python3.7/dist-packages (from packaging>=20.0->transformers) (3.0.9)\n",
            "Requirement already satisfied: zipp>=0.5 in /usr/local/lib/python3.7/dist-packages (from importlib-metadata->transformers) (3.8.0)\n",
            "Requirement already satisfied: urllib3!=1.25.0,!=1.25.1,<1.26,>=1.21.1 in /usr/local/lib/python3.7/dist-packages (from requests->transformers) (1.24.3)\n",
            "Requirement already satisfied: certifi>=2017.4.17 in /usr/local/lib/python3.7/dist-packages (from requests->transformers) (2022.5.18.1)\n",
            "Requirement already satisfied: idna<3,>=2.5 in /usr/local/lib/python3.7/dist-packages (from requests->transformers) (2.10)\n",
            "Requirement already satisfied: chardet<4,>=3.0.2 in /usr/local/lib/python3.7/dist-packages (from requests->transformers) (3.0.4)\n",
            "Looking in indexes: https://pypi.org/simple, https://us-python.pkg.dev/colab-wheels/public/simple/\n",
            "Requirement already satisfied: contractions in /usr/local/lib/python3.7/dist-packages (0.1.72)\n",
            "Requirement already satisfied: textsearch>=0.0.21 in /usr/local/lib/python3.7/dist-packages (from contractions) (0.0.21)\n",
            "Requirement already satisfied: anyascii in /usr/local/lib/python3.7/dist-packages (from textsearch>=0.0.21->contractions) (0.3.1)\n",
            "Requirement already satisfied: pyahocorasick in /usr/local/lib/python3.7/dist-packages (from textsearch>=0.0.21->contractions) (1.4.4)\n"
          ]
        }
      ],
      "source": [
        "\n",
        "#!git clone https://github.com/csipapicsa/2ndYearProject-NLP.git\n",
        "#!pip install transformers\n",
        "from transformers import pipeline, AutoTokenizer, AutoModelForSequenceClassification\n",
        "from scipy.special import softmax\n",
        "import urllib.request\n",
        "import csv\n",
        "import importlib \n",
        "!pip install contractions\n",
        "f = importlib.import_module('2ndYearProject-NLP.functions')\n",
        "import numpy as np"
      ]
    },
    {
      "cell_type": "code",
      "source": [
        "PATH = {}\n",
        "PATH[\"dataset_classification\"] = \"2ndYearProject-NLP/dataset/classification/\"\n",
        "\n",
        "#PATH[\"music_reviews_test\"] = PATH[\"2ndYearProject-NLP/dataset/\"] + \"music_revies_test.json\"\n",
        "\n",
        "PATH[\"dataset_labeling\"] = \"2ndYearProject-NLP/dataset/seq_labeling/\"\n",
        "PATH[\"music_reviews_train\"] = PATH[\"dataset_classification\"] + \"music_reviews_train.json.gz\"\n",
        "PATH[\"music_reviews_dev\"] = PATH[\"dataset_classification\"] + \"music_reviews_dev.json.gz\"\n",
        "PATH[\"music_reviews_test\"] = PATH[\"dataset_classification\"] + \"music_reviews_test.json.gz\"\n",
        "PATH[\"hard_sentences\"] = PATH[\"dataset_classification\"] + \"hard_sentences.json.gz\"\n",
        "\n",
        "train = f.readJson(PATH[\"music_reviews_train\"])\n",
        "dev = f.readJson(PATH[\"music_reviews_dev\"])\n",
        "test = f.readJson(PATH[\"music_reviews_test\"])\n",
        "\n",
        "sent_dict = {\"positive\": 1, \"negative\": 0, \"POSITIVE\": 1, \"NEGATIVE\":0}\n",
        "\n",
        "# read the train data\n",
        "data = train\n",
        "train_sent = []\n",
        "train_sentiment = []\n",
        "train_idx = []\n",
        "train_missing_indexies = []\n",
        "y_train = []\n",
        "length_of_sentencies_counter = []\n",
        "for i in range(len(data)):\n",
        "    try:\n",
        "        train_sent.append(data[i][\"reviewText\"])\n",
        "        train_sentiment.append(data[i][\"sentiment\"])\n",
        "        train_idx.append(i)\n",
        "        y_train.append(sent_dict[data[i][\"sentiment\"]])\n",
        "        length_of_sentencies_counter.append(len(data[i][\"reviewText\"].split()))\n",
        "    except KeyError:\n",
        "        train_missing_indexies.append(i)\n",
        "        continue\n",
        "print(train_missing_indexies)\n",
        "\n",
        "# read the dev data \n",
        "data = dev\n",
        "dev_sent = []\n",
        "dev_sentiment = []\n",
        "dev_idx = []\n",
        "dev_missing_indexies = []\n",
        "dev_y_train = []\n",
        "for i in range(len(data)):\n",
        "    try:\n",
        "        dev_sent.append(data[i][\"reviewText\"])\n",
        "        dev_sentiment.append(data[i][\"sentiment\"])\n",
        "        dev_idx.append(i)\n",
        "        dev_y_train.append(sent_dict[data[i][\"sentiment\"]]) \n",
        "    except KeyError:\n",
        "        dev_missing_indexies.append(i)\n",
        "        continue\n",
        "print(dev_missing_indexies)\n",
        "\n",
        "### reading test data\n",
        "df = test\n",
        "test_review = []\n",
        "test_sentiment = []\n",
        "test_idx = []\n",
        "test_missing_ind = []\n",
        "test_y_train = []\n",
        "for i in range(len(df)):\n",
        "  try:\n",
        "    test_review.append(df[i]['reviewText'])\n",
        "    test_sentiment.append(df[i]['sentiment'])\n",
        "    test_idx.append(i)\n",
        "    test_y_train.append(sent_dict[df[i]['sentiment']])\n",
        "  except KeyError:\n",
        "    test_missing_ind.append(i)\n",
        "    continue\n",
        "\n",
        "# make dev_sentiment into vector for checking accuracy laters... \n",
        "dev_classvec = np.array([sent_dict[s] for s in dev_sentiment])\n",
        "test[0]"
      ],
      "metadata": {
        "colab": {
          "base_uri": "https://localhost:8080/"
        },
        "id": "EYawEtQs5EFb",
        "outputId": "53d3a5ec-be71-438d-d988-f2780431e756"
      },
      "execution_count": null,
      "outputs": [
        {
          "output_type": "stream",
          "name": "stdout",
          "text": [
            "Number of data:  100000\n",
            "Number of data:  10000\n",
            "Number of data:  10000\n",
            "[4603, 4838, 16019, 18229, 19785, 23315, 28397, 28834, 33359, 43138, 43539, 43690, 44008, 44477, 44972, 48811, 49317, 50106, 51717, 52286, 55555, 56171, 57223, 58328, 58799, 58866, 59525, 59739, 61046, 61914, 61916, 62831, 63208, 72268, 78944, 79067, 80093, 80637, 80658, 81640, 81900, 82510, 83138, 83145, 83615, 84761, 87112, 88895, 88984, 89132, 91949, 94301, 94727, 99641]\n",
            "[2900, 4294, 5135, 8540]\n"
          ]
        },
        {
          "output_type": "execute_result",
          "data": {
            "text/plain": [
              "{'asin': 'B007Y1AMHE',\n",
              " 'id': 0,\n",
              " 'reviewText': 'ok',\n",
              " 'reviewTime': '10 24, 2017',\n",
              " 'reviewerID': 'A2HAJB8L9NVYTZ',\n",
              " 'sentiment': 'negative',\n",
              " 'summary': 'ok',\n",
              " 'unixReviewTime': 1508803200,\n",
              " 'verified': True}"
            ]
          },
          "metadata": {},
          "execution_count": 6
        }
      ]
    },
    {
      "cell_type": "code",
      "source": [
        "#!pip install auto-sklearn\n",
        "#test_sentiment"
      ],
      "metadata": {
        "id": "IX-fzLHUCoqq"
      },
      "execution_count": null,
      "outputs": []
    },
    {
      "cell_type": "code",
      "source": [
        "#!pip install pandas \n",
        "import pandas as pd\n",
        "import tensorflow as tf\n",
        "import matplotlib.pyplot as plt"
      ],
      "metadata": {
        "id": "jKlx08Z35EIS"
      },
      "execution_count": null,
      "outputs": []
    },
    {
      "cell_type": "code",
      "source": [
        "data = pd.DataFrame()\n",
        "data['Review'] = pd.DataFrame(train_sent)\n",
        "data['Sentiment'] = y_train\n",
        "\n",
        "dev = pd.DataFrame()\n",
        "dev['Review'] = pd.DataFrame(dev_sent)\n",
        "dev['Sentiment'] = dev_classvec\n",
        "\n",
        "val_train = np.array(dev['Review'])\n",
        "val_labels = np.array(dev['Sentiment'])"
      ],
      "metadata": {
        "id": "3nfRjglW9J3A"
      },
      "execution_count": null,
      "outputs": []
    },
    {
      "cell_type": "code",
      "source": [
        "#data.head(10)\n",
        "data['Sentiment'].value_counts()"
      ],
      "metadata": {
        "id": "BteKlbr15ENz",
        "colab": {
          "base_uri": "https://localhost:8080/"
        },
        "outputId": "ad9ddc59-06cc-4ad8-a1e8-d972a405edba"
      },
      "execution_count": null,
      "outputs": [
        {
          "output_type": "execute_result",
          "data": {
            "text/plain": [
              "1    60734\n",
              "0    39212\n",
              "Name: Sentiment, dtype: int64"
            ]
          },
          "metadata": {},
          "execution_count": 11
        }
      ]
    },
    {
      "cell_type": "code",
      "source": [
        "import numpy as np \n",
        "import tensorflow_hub as hub\n"
      ],
      "metadata": {
        "id": "8RsS3u1CCjot"
      },
      "execution_count": null,
      "outputs": []
    },
    {
      "cell_type": "markdown",
      "source": [
        ""
      ],
      "metadata": {
        "id": "_9-CfLpO9Fkj"
      }
    },
    {
      "cell_type": "code",
      "source": [
        "train = np.array(data['Review'])\n",
        "train_labels = np.array(data['Sentiment'])\n"
      ],
      "metadata": {
        "id": "TmTEqTcc5EQh"
      },
      "execution_count": null,
      "outputs": []
    },
    {
      "cell_type": "code",
      "source": [
        "#test_y_train"
      ],
      "metadata": {
        "id": "n2D9j39FjBBK"
      },
      "execution_count": null,
      "outputs": []
    },
    {
      "cell_type": "code",
      "source": [
        "\n",
        "model = \"https://tfhub.dev/google/nnlm-en-dim50/2\"\n",
        "\n",
        "\n",
        "hub_layer = hub.KerasLayer(model, input_shape=[], dtype=tf.string, trainable=True)\n",
        "\n",
        "hub_layer(train[:10])\n",
        "\n",
        "model = tf.keras.Sequential()\n",
        "model.add(hub_layer)\n",
        "model.add(tf.keras.layers.Dense(160, activation='relu'))\n",
        "#model.add(tf.keras.layers.Dense(100, activation = 'tanh'))\n",
        "model.add(tf.keras.layers.Dense(1)) ##outputs the log-odds of the true class\n",
        "model.summary()\n",
        "\n"
      ],
      "metadata": {
        "id": "qDg8LTR85ETE",
        "colab": {
          "base_uri": "https://localhost:8080/"
        },
        "outputId": "fe5cc879-1172-4359-be9d-735ac4f3544f"
      },
      "execution_count": null,
      "outputs": [
        {
          "output_type": "stream",
          "name": "stdout",
          "text": [
            "Model: \"sequential\"\n",
            "_________________________________________________________________\n",
            " Layer (type)                Output Shape              Param #   \n",
            "=================================================================\n",
            " keras_layer (KerasLayer)    (None, 50)                48190600  \n",
            "                                                                 \n",
            " dense (Dense)               (None, 160)               8160      \n",
            "                                                                 \n",
            " dense_1 (Dense)             (None, 1)                 161       \n",
            "                                                                 \n",
            "=================================================================\n",
            "Total params: 48,198,921\n",
            "Trainable params: 48,198,921\n",
            "Non-trainable params: 0\n",
            "_________________________________________________________________\n"
          ]
        }
      ]
    },
    {
      "cell_type": "code",
      "source": [
        "model.compile(optimizer='adam',\n",
        "              loss=tf.losses.BinaryCrossentropy(from_logits=True),\n",
        "              metrics=[tf.metrics.BinaryAccuracy(threshold=0.0, name='accuracy')])\n"
      ],
      "metadata": {
        "id": "W_cgVPpL5EVd"
      },
      "execution_count": null,
      "outputs": []
    },
    {
      "cell_type": "code",
      "source": [
        "\n",
        "start = 6666\n",
        "end = 5000\n",
        "x_train = train[start:start+end]\n",
        "train_y = train_labels[start: start + end]\n",
        "\n",
        "y_val = val_labels\n",
        "x_val = val_train"
      ],
      "metadata": {
        "id": "dvykuqEG5EX9"
      },
      "execution_count": null,
      "outputs": []
    },
    {
      "cell_type": "code",
      "source": [
        "history = model.fit(x_train, \n",
        "                    train_y, \n",
        "                    epochs = 5,\n",
        "                    batch_size = 20,\n",
        "                    validation_data = (x_val, y_val), \n",
        "                    verbose = 1)"
      ],
      "metadata": {
        "id": "1zpA8Dk55EaK",
        "colab": {
          "base_uri": "https://localhost:8080/"
        },
        "outputId": "7f142674-ea46-4484-a7e9-858adcc6f929"
      },
      "execution_count": null,
      "outputs": [
        {
          "output_type": "stream",
          "name": "stdout",
          "text": [
            "Epoch 1/5\n",
            "250/250 [==============================] - 187s 744ms/step - loss: 0.4393 - accuracy: 0.7950 - val_loss: 0.3837 - val_accuracy: 0.8296\n",
            "Epoch 2/5\n",
            "250/250 [==============================] - 167s 668ms/step - loss: 0.2029 - accuracy: 0.9254 - val_loss: 0.3644 - val_accuracy: 0.8489\n",
            "Epoch 3/5\n",
            "250/250 [==============================] - 164s 656ms/step - loss: 0.0956 - accuracy: 0.9706 - val_loss: 0.4402 - val_accuracy: 0.8358\n",
            "Epoch 4/5\n",
            "250/250 [==============================] - 167s 668ms/step - loss: 0.0449 - accuracy: 0.9884 - val_loss: 0.5150 - val_accuracy: 0.8292\n",
            "Epoch 5/5\n",
            "250/250 [==============================] - 173s 692ms/step - loss: 0.0245 - accuracy: 0.9936 - val_loss: 0.5708 - val_accuracy: 0.8304\n"
          ]
        }
      ]
    },
    {
      "cell_type": "code",
      "source": [
        "\n",
        "\n",
        "results = model.evaluate(test_review, test_y_train)"
      ],
      "metadata": {
        "id": "YoBGZJJe5Eck",
        "colab": {
          "base_uri": "https://localhost:8080/"
        },
        "outputId": "185e6c4f-857b-4354-ae90-783b22fbfdd8"
      },
      "execution_count": null,
      "outputs": [
        {
          "output_type": "stream",
          "name": "stdout",
          "text": [
            "313/313 [==============================] - 24s 76ms/step - loss: 0.5381 - accuracy: 0.8369\n"
          ]
        }
      ]
    },
    {
      "cell_type": "code",
      "source": [
        "history_d = history.history\n",
        "history_d.keys()\n",
        "\n",
        "acc = history_d['accuracy']\n",
        "val_acc = history_d['val_accuracy']\n",
        "loss = history_d['loss']\n",
        "val_loss = history_d['val_loss']\n",
        "\n",
        "epochs = range(1, len(acc) + 1)\n",
        "\n",
        "plt.plot(epochs, loss, 'bo', label='Training loss')\n",
        "\n",
        "plt.plot(epochs, val_loss, 'r', label='Validation loss')\n",
        "plt.title('Training and validation loss')\n",
        "plt.xlabel('Epochs')\n",
        "plt.ylabel('Loss')\n",
        "plt.legend()\n",
        "\n",
        "plt.show()"
      ],
      "metadata": {
        "colab": {
          "base_uri": "https://localhost:8080/",
          "height": 295
        },
        "id": "h5TNKp73C0mD",
        "outputId": "9826b8f5-65a7-490c-fad1-928c387b3675"
      },
      "execution_count": null,
      "outputs": [
        {
          "output_type": "display_data",
          "data": {
            "text/plain": [
              "<Figure size 432x288 with 1 Axes>"
            ],
            "image/png": "[encoded data removed]"
          },
          "metadata": {
            "needs_background": "light"
          }
        }
      ]
    },
    {
      "cell_type": "code",
      "source": [
        ""
      ],
      "metadata": {
        "id": "1efP6CqJBW_K"
      },
      "execution_count": null,
      "outputs": []
    }
  ]
}