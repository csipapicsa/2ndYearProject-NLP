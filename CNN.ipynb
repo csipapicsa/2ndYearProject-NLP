{
 "cells": [
  {
   "cell_type": "code",
   "execution_count": 83,
   "id": "71183bd2",
   "metadata": {
    "scrolled": true
   },
   "outputs": [],
   "source": [
    "# Importing libraries\n",
    "from keras.datasets import imdb\n",
    "from keras.models import Sequential\n",
    "from keras.layers import Dense\n",
    "from keras.layers import Flatten\n",
    "from keras.layers.convolutional import Conv1D, Conv3D\n",
    "from keras.layers.convolutional import MaxPooling1D\n",
    "from keras.layers.embeddings import Embedding\n",
    "from keras.preprocessing import sequence\n",
    "# Our dictionary will contain only of the top 7000 words appearing most frequently\n",
    "\n",
    "# Now we split our data-set into training and test data\n",
    "\n",
    "# Looking at the nature of training data"
   ]
  },
  {
   "cell_type": "code",
   "execution_count": 6,
   "id": "09eb1f62",
   "metadata": {},
   "outputs": [],
   "source": [
    "import imports as ii\n",
    "import functions as f\n",
    "import preprocessing as pp\n",
    "import neuralnetworks as nn\n",
    "import trainRNN as trainRNN"
   ]
  },
  {
   "cell_type": "code",
   "execution_count": 92,
   "id": "bdd84553",
   "metadata": {},
   "outputs": [
    {
     "name": "stdout",
     "output_type": "stream",
     "text": [
      "Number of data:  100000\n",
      "Number of data:  10000\n",
      "Number of data:  10000\n"
     ]
    }
   ],
   "source": [
    "PATH = {}\n",
    "PATH[\"dataset_classification\"] = \"dataset/classification/\"\n",
    "PATH[\"dataset_labeling\"] = \"dataset/seq_labeling/\"\n",
    "PATH[\"music_reviews_train\"] = PATH[\"dataset_classification\"] + \"music_reviews_train.json.gz\"\n",
    "PATH[\"music_reviews_dev\"] = PATH[\"dataset_classification\"] + \"music_reviews_dev.json.gz\"\n",
    "PATH[\"music_reviews_test\"] = PATH[\"dataset_classification\"] + \"music_reviews_test.json.gz\"\n",
    "train = f.readJson(PATH[\"music_reviews_train\"])\n",
    "test = f.readJson(PATH[\"music_reviews_dev\"])\n",
    "test_true = f.readJson(PATH[\"music_reviews_test\"])"
   ]
  },
  {
   "cell_type": "code",
   "execution_count": 105,
   "id": "621421c4",
   "metadata": {},
   "outputs": [],
   "source": [
    "X_train, y_train, train_idx, train_missing_idx = f.json_divide(train)\n",
    "X_dev, y_dev, test_idx, test_missing_idx = f.json_divide(test)\n",
    "X_test, y_test, test_idx, test_missing_idx = f.json_divide(test)"
   ]
  },
  {
   "cell_type": "code",
   "execution_count": 106,
   "id": "b48fd2e6",
   "metadata": {},
   "outputs": [],
   "source": [
    "combination = [1, 1, 1, 1, 1, 1]\n",
    "combination = [1, 1, 0, 1, 1, 0]\n",
    "data_sets, y_train, y_test = f.grid_search_retrain(X_train, X_test, y_train, y_test, combination)"
   ]
  },
  {
   "cell_type": "code",
   "execution_count": 107,
   "id": "34dc3016",
   "metadata": {},
   "outputs": [],
   "source": [
    "X_train = data_sets[0][1]\n",
    "X_test = data_sets[0][2]"
   ]
  },
  {
   "cell_type": "code",
   "execution_count": 108,
   "id": "e2cf6801",
   "metadata": {},
   "outputs": [],
   "source": [
    "tokenizer = pp.tokenizer_init(X_train, X_test, X_test)\n",
    "X_train = tokenizer.texts_to_sequences(X_train)\n",
    "X_test = tokenizer.texts_to_sequences(X_test)"
   ]
  },
  {
   "cell_type": "code",
   "execution_count": 109,
   "id": "19988df2",
   "metadata": {},
   "outputs": [],
   "source": [
    "vocabulary_size = len(tokenizer.word_counts)"
   ]
  },
  {
   "cell_type": "code",
   "execution_count": 110,
   "id": "962a169f",
   "metadata": {},
   "outputs": [],
   "source": [
    "# Padding the data samples to a maximum review length in words\n",
    "max_words = 70\n",
    "X_train = sequence.pad_sequences(X_train, maxlen=max_words)\n",
    "X_test = sequence.pad_sequences(X_test, maxlen=max_words)\n",
    "# Building the CNN Model\n",
    "model = Sequential()      # initilaizing the Sequential nature for CNN model\n",
    "# Adding the embedding layer which will take in maximum of 450 words as input and provide a 32 dimensional output of those words which belong in the top_words dictionary\n",
    "model.add(Embedding(vocabulary_size+1, 32, input_length=max_words))\n",
    "model.add(Conv1D(32, 1, padding='same', activation='relu'))\n",
    "model.add(MaxPooling1D())\n",
    "model.add(Flatten())\n",
    "model.add(Dense(250, activation='relu'))\n",
    "model.add(Dense(1, activation='sigmoid'))"
   ]
  },
  {
   "cell_type": "code",
   "execution_count": 111,
   "id": "6b538739",
   "metadata": {},
   "outputs": [
    {
     "name": "stdout",
     "output_type": "stream",
     "text": [
      "Model: \"sequential_12\"\n",
      "_________________________________________________________________\n",
      " Layer (type)                Output Shape              Param #   \n",
      "=================================================================\n",
      " embedding_12 (Embedding)    (None, 70, 32)            2244480   \n",
      "                                                                 \n",
      " conv1d_9 (Conv1D)           (None, 70, 32)            1056      \n",
      "                                                                 \n",
      " max_pooling1d_9 (MaxPooling  (None, 35, 32)           0         \n",
      " 1D)                                                             \n",
      "                                                                 \n",
      " flatten_9 (Flatten)         (None, 1120)              0         \n",
      "                                                                 \n",
      " dense_18 (Dense)            (None, 250)               280250    \n",
      "                                                                 \n",
      " dense_19 (Dense)            (None, 1)                 251       \n",
      "                                                                 \n",
      "=================================================================\n",
      "Total params: 2,526,037\n",
      "Trainable params: 2,526,037\n",
      "Non-trainable params: 0\n",
      "_________________________________________________________________\n"
     ]
    }
   ],
   "source": [
    "model.compile(loss='binary_crossentropy', optimizer='adam', metrics=['accuracy'])\n",
    "model.summary()"
   ]
  },
  {
   "cell_type": "code",
   "execution_count": 112,
   "id": "324ee9d1",
   "metadata": {},
   "outputs": [],
   "source": [
    "sent_dict = {\"positive\": 1, \"negative\": 0}\n",
    "y_train = pp.sentiment_converter(y_train, sent_dict)\n",
    "y_dev = pp.sentiment_converter(y_dev, sent_dict)\n",
    "y_test = pp.sentiment_converter(y_test, sent_dict)"
   ]
  },
  {
   "cell_type": "code",
   "execution_count": 113,
   "id": "08504114",
   "metadata": {},
   "outputs": [],
   "source": [
    "import numpy as np\n",
    "X_test = np.array(X_test)\n",
    "X_train = np.array(X_train)\n",
    "y_train = np.array(y_train)\n",
    "y_test = np.array(y_test)"
   ]
  },
  {
   "cell_type": "code",
   "execution_count": 114,
   "id": "f8fdc076",
   "metadata": {},
   "outputs": [
    {
     "name": "stdout",
     "output_type": "stream",
     "text": [
      "Epoch 1/4\n",
      "1000/1000 [==============================] - 35s 35ms/step - loss: 0.2917 - accuracy: 0.8775 - val_loss: 0.2465 - val_accuracy: 0.9025\n",
      "Epoch 2/4\n",
      "1000/1000 [==============================] - 37s 37ms/step - loss: 0.1904 - accuracy: 0.9291 - val_loss: 0.2548 - val_accuracy: 0.9016\n",
      "Epoch 3/4\n",
      "1000/1000 [==============================] - 36s 36ms/step - loss: 0.1399 - accuracy: 0.9503 - val_loss: 0.2913 - val_accuracy: 0.8877\n",
      "Epoch 4/4\n",
      "1000/1000 [==============================] - 33s 33ms/step - loss: 0.0990 - accuracy: 0.9671 - val_loss: 0.3582 - val_accuracy: 0.8879\n",
      "313/313 [==============================] - 1s 2ms/step - loss: 0.3582 - accuracy: 0.8879\n",
      "Accuracy: 88.79%\n"
     ]
    }
   ],
   "source": [
    "# Fitting the data onto model\n",
    "model.fit(X_train, y_train, validation_data=(X_test, y_test), epochs=4, batch_size=100, verbose=1)\n",
    "# Getting score metrics from our model\n",
    "scores = model.evaluate(X_test, y_test, verbose=1)\n",
    "# Displays the accuracy of correct sentiment prediction over test data\n",
    "print(\"Accuracy: %.2f%%\" % (scores[1]*100))"
   ]
  },
  {
   "cell_type": "code",
   "execution_count": null,
   "id": "d3d063ce",
   "metadata": {},
   "outputs": [],
   "source": []
  }
 ],
 "metadata": {
  "kernelspec": {
   "display_name": "Python 3 (ipykernel)",
   "language": "python",
   "name": "python3"
  },
  "language_info": {
   "codemirror_mode": {
    "name": "ipython",
    "version": 3
   },
   "file_extension": ".py",
   "mimetype": "text/x-python",
   "name": "python",
   "nbconvert_exporter": "python",
   "pygments_lexer": "ipython3",
   "version": "3.9.6"
  }
 },
 "nbformat": 4,
 "nbformat_minor": 5
}
